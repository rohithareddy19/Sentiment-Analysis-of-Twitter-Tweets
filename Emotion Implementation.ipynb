{
 "cells": [
  {
   "cell_type": "code",
   "execution_count": null,
   "metadata": {},
   "outputs": [],
   "source": [
    "# -*- coding: utf-8 -*-\n",
    "\"\"\"\n",
    "Created on Tue Oct  9 23:50:13 2018\n",
    "\n",
    "@author: all\n",
    "\"\"\"\n",
    "\n",
    "import indicoio\n",
    "import operator\n",
    "import os\n",
    "import pandas as pd\n",
    "\n",
    "os.chdir(r'C:\\Users\\Reddy Rohitha\\Documents\\BA CAPSTONE\\SENTIMENTS')\n",
    "\n",
    "indicoio.config.api_key = '30d5ba1d1b8bed696bd510765f1dbe7c'\n",
    "\n",
    "count = 0"
   ]
  },
  {
   "cell_type": "code",
   "execution_count": null,
   "metadata": {},
   "outputs": [],
   "source": [
    "os.chdir(r'C:\\Users\\Reddy Rohitha\\Documents\\BA CAPSTONE\\SENTIMENTS')\n",
    "\n",
    "indicoio.config.api_key = '30d5ba1d1b8bed696bd510765f1dbe7c'"
   ]
  },
  {
   "cell_type": "code",
   "execution_count": null,
   "metadata": {},
   "outputs": [],
   "source": [
    "#I did it. I got into Grad School. Not just any program, but a GREAT program. :-)\n",
    "count = 0\n",
    "def get_emotion(tweet):\n",
    "    try:\n",
    "        \n",
    "        global count\n",
    "        count += 1\n",
    "        print(count)\n",
    "        em = indicoio.emotion(tweet)\n",
    "        emotion = max(em.items(), key=operator.itemgetter(1))[0]\n",
    "        score = max(em.items(), key=operator.itemgetter(1))[1]\n",
    "        return [emotion,score]\n",
    "\n",
    "    except:\n",
    "        print(\"limit exceeded\")\n"
   ]
  },
  {
   "cell_type": "code",
   "execution_count": null,
   "metadata": {},
   "outputs": [],
   "source": [
    "df = pd.read_csv('aflac_sen.csv')\n",
    "\n",
    "# Get emotion and score\n",
    "df['Emotion_list'] = df.Message.apply(get_emotion)\n",
    "df['Emotion'] = df['Emotion_list'].apply(lambda x: x[0])\n",
    "df['Emotion_score'] = df['Emotion_list'].apply(lambda x: x[1])\n",
    "\n",
    "df.to_csv(r'C:\\Users\\Reddy Rohitha\\Documents\\BA CAPSTONE\\EMOTIONS\\aflac_emo.csv', sep=',', mode = 'a',encoding='utf-8',index = False)"
   ]
  }
 ],
 "metadata": {
  "kernelspec": {
   "display_name": "Python 3.9.13 64-bit (windows store)",
   "language": "python",
   "name": "python3"
  },
  "language_info": {
   "name": "python",
   "version": "3.9.13"
  },
  "orig_nbformat": 4,
  "vscode": {
   "interpreter": {
    "hash": "a6cad6a69f057dfb3716d38f36f95c9fdd4eb0aeda346613983bded13370c981"
   }
  }
 },
 "nbformat": 4,
 "nbformat_minor": 2
}
