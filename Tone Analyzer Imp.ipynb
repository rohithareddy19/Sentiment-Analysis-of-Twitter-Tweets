{
 "cells": [
  {
   "cell_type": "code",
   "execution_count": null,
   "metadata": {},
   "outputs": [],
   "source": [
    "# -*- coding: utf-8 -*-\n",
    "\"\"\"\n",
    "Created on Wed Sep  5 09:29:18 2018\n",
    "\n",
    "@author: Reddy Rohitha\n",
    "\"\"\"\n",
    "\n",
    "#--------------------------------------------------------------\n",
    "#Imports\n",
    "#--------------------------------------------------------------\n",
    "\n",
    "#The ToneAnalyzer class from WDC\n",
    "from watson_developer_cloud import ToneAnalyzerV3\n",
    "\n",
    "#Pandas for data handling\n",
    "import pandas as pd\n",
    "\n",
    "#Time class to measure the time taken\n",
    "import time\n",
    "#--------------------------------------------------------------\n"
   ]
  },
  {
   "cell_type": "code",
   "execution_count": null,
   "metadata": {},
   "outputs": [],
   "source": [
    "#Read the data\n",
    "#data = pd.read_csv('Reviews.csv')\n",
    "data = pd.read_csv(r'C:\\Users\\Reddy Rohitha\\Documents\\BA CAPSTONE\\reviews_sample.csv')\n",
    "\n",
    "\n",
    "#Make a copy of 100 rows for smaller testing\n",
    "small_data = data.head(100).copy()\n",
    "\n",
    "#To view the documentation\n",
    "#print(help(ToneAnalyzerV3))"
   ]
  },
  {
   "cell_type": "code",
   "execution_count": null,
   "metadata": {},
   "outputs": [],
   "source": [
    "#-------------------------------------------------------------------------\n",
    "#Instantiate TA Object with your Credentials\n",
    "#-------------------------------------------------------------------------\n",
    "tone_analyzer = ToneAnalyzerV3(\n",
    "    username='9a49ef6d-fd4a-4029-b5a1-1650dd30719f',\n",
    "    password='3k7RhrkC21Cp',\n",
    "    version='2017-09-21',\n",
    "    url = 'https://gateway.watsonplatform.net/tone-analyzer/api')\n",
    "#-------------------------------------------------------------------------\n",
    "\n",
    "#Get the current time on the clock\n",
    "time_start = time.clock()"
   ]
  },
  {
   "cell_type": "code",
   "execution_count": null,
   "metadata": {},
   "outputs": [],
   "source": [
    "#------------------------------------------------------------------------\n",
    "#Iterate Over All the Reviews and Append the Result:\n",
    "#------------------------------------------------------------------------    \n",
    "for index, review in small_data['Text'].iteritems():\n",
    "    \n",
    "    #Pass a single review to TA (one by one):\n",
    "    json_output = tone_analyzer.tone(review, content_type='text/plain')    \n",
    "    \n",
    "    #Traverse the heirarchy of result\n",
    "    for i in json_output['document_tone']['tone_categories']:\n",
    "        for j in i['tones']:\n",
    "            #Append the attributes to the data\n",
    "            small_data.set_value(index, j['tone_name'], j['score']) \n",
    "#------------------------------------------------------------------------"
   ]
  },
  {
   "cell_type": "code",
   "execution_count": null,
   "metadata": {},
   "outputs": [],
   "source": [
    "#Get the current time again and subract from \n",
    "#previous to measure the time taken        \n",
    "time_end = time.clock() - time_start\n",
    "\n",
    "#Print the time taken\n",
    "print(time_end)\n",
    "\n",
    "#Save the enriched data to another CSV File\n",
    "small_data.to_csv('OutputTA.csv')"
   ]
  }
 ],
 "metadata": {
  "kernelspec": {
   "display_name": "Python 3.9.13 64-bit (windows store)",
   "language": "python",
   "name": "python3"
  },
  "language_info": {
   "name": "python",
   "version": "3.9.13"
  },
  "orig_nbformat": 4,
  "vscode": {
   "interpreter": {
    "hash": "a6cad6a69f057dfb3716d38f36f95c9fdd4eb0aeda346613983bded13370c981"
   }
  }
 },
 "nbformat": 4,
 "nbformat_minor": 2
}
